{
 "cells": [
  {
   "cell_type": "code",
   "execution_count": 1,
   "metadata": {},
   "outputs": [],
   "source": [
    "from datetime import datetime\n",
    "import os\n",
    "from functools import partial\n",
    "from pyspark import SparkContext\n",
    "import json\n",
    "import re\n",
    "import argparse"
   ]
  },
  {
   "cell_type": "code",
   "execution_count": 2,
   "metadata": {},
   "outputs": [],
   "source": [
    "index2amazon_column = {\n",
    "    2: \"review_id\",\n",
    "    14: \"review_date\",\n",
    "    6: \"product_category\",\n",
    "    7: \"star_rating\"\n",
    "}\n",
    "\n",
    "basepath = \"/home/de2020/Documents/amazon\" "
   ]
  },
  {
   "cell_type": "code",
   "execution_count": 3,
   "metadata": {},
   "outputs": [],
   "source": [
    "sc = SparkContext()"
   ]
  },
  {
   "cell_type": "code",
   "execution_count": 4,
   "metadata": {},
   "outputs": [],
   "source": [
    "amazon_rdd = sc.textFile(basepath)"
   ]
  },
  {
   "cell_type": "code",
   "execution_count": 5,
   "metadata": {},
   "outputs": [
    {
     "data": {
      "text/plain": [
       "['US\\t53096384\\tR63J84G1LOX6R\\t1563890119\\t763187671\\tThe Sandman Vol. 1: Preludes and Nocturnes\\tBooks\\t4\\t0\\t1\\tN\\tN\\tignore the review below\\tthis is the first 8 issues of the series. it is the starting point of all this... it also contains the sound of her wings. issue #8. which is the first appearance of death. and many peoples favorite issue. its not the best of the collected works. but its the start of them.\\t1995-08-13']"
      ]
     },
     "execution_count": 5,
     "metadata": {},
     "output_type": "execute_result"
    }
   ],
   "source": [
    "amazon_rdd.take(1)"
   ]
  },
  {
   "cell_type": "code",
   "execution_count": 6,
   "metadata": {},
   "outputs": [],
   "source": [
    "tab_split_func = lambda input_line: input_line.split(\"\\t\") #functie met inpu_line als input variabele (namelijk het eerste record als string)"
   ]
  },
  {
   "cell_type": "code",
   "execution_count": 7,
   "metadata": {},
   "outputs": [],
   "source": [
    "amazon_split_rdd = amazon_rdd.map(tab_split_func) #map neemt 1 fucntie als input, functie neemt 1 input\n",
    "                                                    # map voert tab_split_func uit op alle rijen"
   ]
  },
  {
   "cell_type": "code",
   "execution_count": 8,
   "metadata": {},
   "outputs": [],
   "source": [
    "#nu gaan we de informatie die in deze rdd zit, in een andere rdd steken als json format.\n",
    "def transform_to_json(record, index2column):\n",
    "    return_value = dict()\n",
    "    for index, column_name in index2column.items():\n",
    "        return_value[column_name] = record[index]\n",
    "    return return_value\n",
    "\n",
    "amazon_json_rdd = amazon_split_rdd.map(partial(transform_to_json, index2column = index2amazon_column))\n",
    "#dus we gaan de functie transform_to_json uitvoeren op elke rij van amazon_split_rdd.\n",
    "#indien te wazig -> amazon_split_rdd.take(1) in vorige tab. \n",
    "#partiele functie want we gaan index2column record al partieel invullen met index2amazon_column dictionary\n",
    "#omdat index2amazon_column bepaalt welke kolommen we willen extracten en welke naam het moet krijgen.\n",
    "#customer_id is de key.\n",
    "        "
   ]
  },
  {
   "cell_type": "code",
   "execution_count": 9,
   "metadata": {
    "scrolled": true
   },
   "outputs": [
    {
     "data": {
      "text/plain": [
       "[{'review_id': 'R63J84G1LOX6R',\n",
       "  'review_date': '1995-08-13',\n",
       "  'product_category': 'Books',\n",
       "  'star_rating': '4'}]"
      ]
     },
     "execution_count": 9,
     "metadata": {},
     "output_type": "execute_result"
    }
   ],
   "source": [
    "amazon_json_rdd.take(1)"
   ]
  },
  {
   "cell_type": "code",
   "execution_count": 10,
   "metadata": {},
   "outputs": [],
   "source": [
    "def convert_dtstr_dt(dtstr):\n",
    "    format_string = \"%Y-%m-%d\"\n",
    "    dt = datetime.strptime(dtstr, format_string)\n",
    "    if dt.month < 10:\n",
    "        return str(dt.year) + \"0\" + str(dt.month)\n",
    "    else:\n",
    "        return str(dt.year) + str(dt.month)\n",
    "type_converters = {\n",
    "    \"review_date\": convert_dtstr_dt,\n",
    "    \"star_rating\": int\n",
    "}\n",
    "\n",
    "def convert_types(record, converters):\n",
    "    for col_name, convert_func in converters.items():\n",
    "        record[col_name] = convert_func(record[col_name])\n",
    "    return record"
   ]
  },
  {
   "cell_type": "code",
   "execution_count": 11,
   "metadata": {},
   "outputs": [],
   "source": [
    "amazon_converted_rdd = amazon_json_rdd.map(partial(convert_types, converters = type_converters)) "
   ]
  },
  {
   "cell_type": "code",
   "execution_count": 12,
   "metadata": {},
   "outputs": [
    {
     "data": {
      "text/plain": [
       "[{'review_id': 'R63J84G1LOX6R',\n",
       "  'review_date': '199508',\n",
       "  'product_category': 'Books',\n",
       "  'star_rating': 4}]"
      ]
     },
     "execution_count": 12,
     "metadata": {},
     "output_type": "execute_result"
    }
   ],
   "source": [
    "amazon_converted_rdd.take(1) "
   ]
  },
  {
   "cell_type": "code",
   "execution_count": 13,
   "metadata": {},
   "outputs": [],
   "source": [
    "star_date_count_rdd = amazon_converted_rdd.map(lambda js:((int(js[\"review_date\"]),js[\"product_category\"],js[\"star_rating\"]),1)).reduceByKey(lambda x, y: x+y).collect()"
   ]
  },
  {
   "cell_type": "code",
   "execution_count": 14,
   "metadata": {},
   "outputs": [
    {
     "data": {
      "text/plain": [
       "[((199806, 'Video DVD', 1), 1),\n",
       " ((199809, 'Books', 4), 49),\n",
       " ((199809, 'Books', 1), 30),\n",
       " ((200005, 'Video DVD', 5), 833),\n",
       " ((200005, 'Video DVD', 3), 136),\n",
       " ((200106, 'Video', 3), 51),\n",
       " ((200112, 'Video Games', 5), 4),\n",
       " ((200202, 'Books', 3), 84),\n",
       " ((200208, 'Video Games', 5), 9),\n",
       " ((200210, 'Video', 5), 239)]"
      ]
     },
     "execution_count": 14,
     "metadata": {},
     "output_type": "execute_result"
    }
   ],
   "source": [
    "star_date_count_rdd[:10]"
   ]
  },
  {
   "cell_type": "code",
   "execution_count": 15,
   "metadata": {},
   "outputs": [],
   "source": [
    "star_date_count_rdd_sorted = sorted(star_date_count_rdd, key = lambda x: x[0])"
   ]
  },
  {
   "cell_type": "code",
   "execution_count": 16,
   "metadata": {},
   "outputs": [],
   "source": [
    "def unpacking(list_packed):\n",
    "    unpacked_list = [(*x, z) for x, z in list_packed]\n",
    "    return unpacked_list "
   ]
  },
  {
   "cell_type": "code",
   "execution_count": 17,
   "metadata": {},
   "outputs": [],
   "source": [
    "star_date_count_unpacked= unpacking(star_date_count_rdd_sorted)"
   ]
  },
  {
   "cell_type": "code",
   "execution_count": 18,
   "metadata": {},
   "outputs": [],
   "source": [
    "star_date_count_unpacked_rdd= sc.parallelize(star_date_count_unpacked)"
   ]
  },
  {
   "cell_type": "code",
   "execution_count": 19,
   "metadata": {},
   "outputs": [],
   "source": [
    "index2new_column= {\n",
    "    0: \"review_date\",            \n",
    "    1: \"product_category\",\n",
    "    2: \"star_rating\",\n",
    "    3: \"review_count\",\n",
    "}"
   ]
  },
  {
   "cell_type": "code",
   "execution_count": 20,
   "metadata": {},
   "outputs": [],
   "source": [
    "amazon_mapped_json_rdd = star_date_count_unpacked_rdd.map(partial(transform_to_json, index2column = index2new_column))"
   ]
  },
  {
   "cell_type": "code",
   "execution_count": 21,
   "metadata": {},
   "outputs": [
    {
     "data": {
      "text/plain": [
       "[{'review_date': 199508,\n",
       "  'product_category': 'Books',\n",
       "  'star_rating': 4,\n",
       "  'review_count': 2},\n",
       " {'review_date': 199508,\n",
       "  'product_category': 'Books',\n",
       "  'star_rating': 5,\n",
       "  'review_count': 1},\n",
       " {'review_date': 199509,\n",
       "  'product_category': 'Books',\n",
       "  'star_rating': 5,\n",
       "  'review_count': 1},\n",
       " {'review_date': 199510,\n",
       "  'product_category': 'Books',\n",
       "  'star_rating': 5,\n",
       "  'review_count': 1},\n",
       " {'review_date': 199511,\n",
       "  'product_category': 'Books',\n",
       "  'star_rating': 5,\n",
       "  'review_count': 2},\n",
       " {'review_date': 199511,\n",
       "  'product_category': 'Music',\n",
       "  'star_rating': 5,\n",
       "  'review_count': 1},\n",
       " {'review_date': 199511,\n",
       "  'product_category': 'Video',\n",
       "  'star_rating': 5,\n",
       "  'review_count': 1},\n",
       " {'review_date': 199605,\n",
       "  'product_category': 'Books',\n",
       "  'star_rating': 5,\n",
       "  'review_count': 13},\n",
       " {'review_date': 199605,\n",
       "  'product_category': 'Music',\n",
       "  'star_rating': 4,\n",
       "  'review_count': 1},\n",
       " {'review_date': 199606,\n",
       "  'product_category': 'Books',\n",
       "  'star_rating': 4,\n",
       "  'review_count': 4}]"
      ]
     },
     "execution_count": 21,
     "metadata": {},
     "output_type": "execute_result"
    }
   ],
   "source": [
    "amazon_mapped_json_rdd.take(10)"
   ]
  },
  {
   "cell_type": "code",
   "execution_count": 27,
   "metadata": {},
   "outputs": [],
   "source": [
    "def stringify_record(record): \n",
    "    return json.dumps(record)"
   ]
  },
  {
   "cell_type": "code",
   "execution_count": 28,
   "metadata": {},
   "outputs": [],
   "source": [
    "amazon_to_string= amazon_mapped_json_rdd.map(stringify_record)"
   ]
  },
  {
   "cell_type": "code",
   "execution_count": null,
   "metadata": {},
   "outputs": [],
   "source": [
    "amazon_to_string.take(10)"
   ]
  },
  {
   "cell_type": "code",
   "execution_count": 25,
   "metadata": {},
   "outputs": [],
   "source": [
    "import mysql.connector\n",
    "\n",
    "def connection_factory(user, password, host, database):\n",
    "    cnx = mysql.connector.connect(\n",
    "                    user=user, \n",
    "                    password=password, \n",
    "                    host=host, \n",
    "                    database=database\n",
    "    )\n",
    "    cursor = cnx.cursor()\n",
    "    return cnx, cursor\n",
    "\n",
    "connection_factory = partial(connection_factory,\n",
    "                            user =\"root\",\n",
    "                            password=\"de2020\",\n",
    "                            host=\"localhost\",\n",
    "                            database=\"Amazon2020\"\n",
    "                    )"
   ]
  },
  {
   "cell_type": "code",
   "execution_count": 26,
   "metadata": {},
   "outputs": [],
   "source": [
    "def store_records(records, connection_factory):\n",
    "    cnx, cursor = connection_factory()\n",
    "    \n",
    "    insert_statement_str = \"insert into Review(review_date,product_category,star_rating,review_count) VALUES(%s, %s, %s, %s)\"\n",
    "    \n",
    "    record_list = list()\n",
    "    for record in records:\n",
    "        record_list.append((\n",
    "        record[\"review_date\"],\n",
    "        record[\"product_category\"],\n",
    "        record[\"star_rating\"],\n",
    "        record[\"review_count\"],\n",
    "        ));\n",
    "    cursor.executemany(insert_statement_str,record_list)\n",
    "    cnx.commit()\n",
    "    cnx.close()\n"
   ]
  },
  {
   "cell_type": "code",
   "execution_count": null,
   "metadata": {},
   "outputs": [],
   "source": [
    "amazon_mapped_json_rdd.foreachPartition(partial(store_records, connection_factory = connection_factory))"
   ]
  },
  {
   "cell_type": "code",
   "execution_count": null,
   "metadata": {},
   "outputs": [],
   "source": []
  }
 ],
 "metadata": {
  "kernelspec": {
   "display_name": "Python 3",
   "language": "python",
   "name": "python3"
  },
  "language_info": {
   "codemirror_mode": {
    "name": "ipython",
    "version": 3
   },
   "file_extension": ".py",
   "mimetype": "text/x-python",
   "name": "python",
   "nbconvert_exporter": "python",
   "pygments_lexer": "ipython3",
   "version": "3.7.4"
  }
 },
 "nbformat": 4,
 "nbformat_minor": 4
}
